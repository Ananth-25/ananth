{
  "nbformat": 4,
  "nbformat_minor": 0,
  "metadata": {
    "colab": {
      "name": "Golden project",
      "provenance": [],
      "authorship_tag": "ABX9TyNKKrAllcp2YKgKFYhXdNIj",
      "include_colab_link": true
    },
    "kernelspec": {
      "name": "python3",
      "display_name": "Python 3"
    }
  },
  "cells": [
    {
      "cell_type": "markdown",
      "metadata": {
        "id": "view-in-github",
        "colab_type": "text"
      },
      "source": [
        "<a href=\"https://colab.research.google.com/github/Ananth-25/ananth/blob/master/Golden_project.ipynb\" target=\"_parent\"><img src=\"https://colab.research.google.com/assets/colab-badge.svg\" alt=\"Open In Colab\"/></a>"
      ]
    },
    {
      "cell_type": "code",
      "metadata": {
        "id": "vuHUEwzvqGfF",
        "colab_type": "code",
        "colab": {
          "base_uri": "https://localhost:8080/",
          "height": 34
        },
        "outputId": "5d0ab060-e805-4afa-bf5d-87cbceb978a7"
      },
      "source": [
        "\n",
        "# program to find product \n",
        "# under modulo. \n",
        "  \n",
        "MOD = 1000000007\n",
        "  \n",
        "def product(ar, n): \n",
        "  \n",
        "    result = 1\n",
        "    for i in range(0, n): \n",
        "        result = (result * ar[i]) % MOD \n",
        "    return result \n",
        "  \n",
        "  \n",
        "# driver code for the \n",
        "# above program \n",
        "ar = [1, 2, 3, 4, 5]  \n",
        "n = len(ar)  \n",
        "  \n",
        "print(product(ar, n)) \n",
        "  "
      ],
      "execution_count": 1,
      "outputs": [
        {
          "output_type": "stream",
          "text": [
            "120\n"
          ],
          "name": "stdout"
        }
      ]
    },
    {
      "cell_type": "code",
      "metadata": {
        "id": "_L7284NbtebA",
        "colab_type": "code",
        "colab": {
          "base_uri": "https://localhost:8080/",
          "height": 34
        },
        "outputId": "a4b803f5-26ec-47ce-f48b-1edfa42e1556"
      },
      "source": [
        "# program to find product \n",
        "# under modulo. \n",
        "  \n",
        "MOD = 1000000007\n",
        "  \n",
        "def product(ar, n): \n",
        "  \n",
        "    result = 1\n",
        "    for i in range(0, n): \n",
        "        result = (result * ar[i]) % MOD \n",
        "    return result \n",
        "  \n",
        "  \n",
        "# driver code for the \n",
        "# above program \n",
        "ar = [1, 2, 3, 4, 5,6]  \n",
        "n = len(ar)  \n",
        "  \n",
        "print(product(ar, n)) \n",
        "  "
      ],
      "execution_count": 15,
      "outputs": [
        {
          "output_type": "stream",
          "text": [
            "720\n"
          ],
          "name": "stdout"
        }
      ]
    },
    {
      "cell_type": "code",
      "metadata": {
        "id": "HvwJ0sepqSpl",
        "colab_type": "code",
        "colab": {
          "base_uri": "https://localhost:8080/",
          "height": 68
        },
        "outputId": "03f16a6a-6f0f-43c0-d42b-22ba26501b7a"
      },
      "source": [
        "\n",
        "# program to find product \n",
        "# under modulo. \n",
        "\n",
        "MOD = 1000000007\n",
        "  \n",
        "def product(ar, n): \n",
        "\n",
        "    result = 1\n",
        "    for i in range(0, n): \n",
        "        result = (result * ar[i]) % MOD \n",
        "    return result \n",
        "    \n",
        "n= input(\"enter no of elements:\")\n",
        "ar= input(\"enter the elements:\") \n",
        "\n",
        "ar=[1,2,3,4,5]\n",
        "n = len(ar)\n",
        "  \n",
        " \n",
        "  \n",
        "print(product(ar, n)) \n",
        "  "
      ],
      "execution_count": 10,
      "outputs": [
        {
          "output_type": "stream",
          "text": [
            "enter no of elements:5\n",
            "enter the elements:1 2 3 4 5\n",
            "120\n"
          ],
          "name": "stdout"
        }
      ]
    }
  ]
}