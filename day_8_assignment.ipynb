{
  "nbformat": 4,
  "nbformat_minor": 0,
  "metadata": {
    "colab": {
      "name": "day 8 assignment",
      "provenance": [],
      "authorship_tag": "ABX9TyMJ174JguiRrB5Sudi//kvW",
      "include_colab_link": true
    },
    "kernelspec": {
      "name": "python3",
      "display_name": "Python 3"
    }
  },
  "cells": [
    {
      "cell_type": "markdown",
      "metadata": {
        "id": "view-in-github",
        "colab_type": "text"
      },
      "source": [
        "<a href=\"https://colab.research.google.com/github/Ananth-25/ananth/blob/master/day_8_assignment.ipynb\" target=\"_parent\"><img src=\"https://colab.research.google.com/assets/colab-badge.svg\" alt=\"Open In Colab\"/></a>"
      ]
    },
    {
      "cell_type": "code",
      "metadata": {
        "id": "PdpTOLt_D92F",
        "colab_type": "code",
        "colab": {}
      },
      "source": [
        "# program of fibonaci series using decoraters\n",
        "def userInput(some_func):\n",
        "  def fibInput():\n",
        "    a = int(input(\"enter a number\"))\n",
        "    some_func(a)\n",
        "  return fibInput()"
      ],
      "execution_count": 0,
      "outputs": []
    },
    {
      "cell_type": "code",
      "metadata": {
        "id": "_DcNAHAiEPY_",
        "colab_type": "code",
        "colab": {
          "base_uri": "https://localhost:8080/",
          "height": 153
        },
        "outputId": "9f283a53-4a27-4a62-f4ef-74ffcb3d460f"
      },
      "source": [
        "@userInput\n",
        "\n",
        "def fib(a):\n",
        "  n1 = 0\n",
        "  n2 = 1\n",
        "  if a < 0:\n",
        "    print(\"enter a positive number\")\n",
        "  elif a ==1:\n",
        "      print(\"series is\",0)\n",
        "  elif a == 2:\n",
        "      print(\"series is\",1)\n",
        "  else:\n",
        "      print(\"series are\")\n",
        "      print(\"0\")\n",
        "      print(\"1\")\n",
        "      for i in range(2,a):\n",
        "        n = n1+n2\n",
        "        print(n)\n",
        "        n1=n2\n",
        "        n2=n"
      ],
      "execution_count": 4,
      "outputs": [
        {
          "output_type": "stream",
          "text": [
            "enter a number6\n",
            "series are\n",
            "0\n",
            "1\n",
            "1\n",
            "2\n",
            "3\n",
            "5\n"
          ],
          "name": "stdout"
        }
      ]
    }
  ]
}