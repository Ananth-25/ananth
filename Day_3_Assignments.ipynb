{
  "nbformat": 4,
  "nbformat_minor": 0,
  "metadata": {
    "colab": {
      "name": "Day 3  Assignments",
      "provenance": [],
      "authorship_tag": "ABX9TyNlpwcO3VQF2lBBHMb7Hmb7",
      "include_colab_link": true
    },
    "kernelspec": {
      "name": "python3",
      "display_name": "Python 3"
    }
  },
  "cells": [
    {
      "cell_type": "markdown",
      "metadata": {
        "id": "view-in-github",
        "colab_type": "text"
      },
      "source": [
        "<a href=\"https://colab.research.google.com/github/Ananth-25/ananth/blob/master/Day_3_Assignments.ipynb\" target=\"_parent\"><img src=\"https://colab.research.google.com/assets/colab-badge.svg\" alt=\"Open In Colab\"/></a>"
      ]
    },
    {
      "cell_type": "code",
      "metadata": {
        "id": "7-idkBLmNFYX",
        "colab_type": "code",
        "colab": {
          "base_uri": "https://localhost:8080/",
          "height": 85
        },
        "outputId": "55babbd7-95b6-4803-a14c-50b88c2d9a93"
      },
      "source": [
        "x = input(\"Enter your DIP SCORE: \") \n",
        "print(x)\n",
        "\n",
        "if __name__ == \"__main__\": \n",
        "\n",
        "\t# Store marks of all the subjects \n",
        "\t# in an array \n",
        "\tmarks = [int (x)] \n",
        "\n",
        "\t# Max marks will be 100 * number \n",
        "\t# of subjects \n",
        "\tmax_marks = len(marks)* 100\n",
        "\n",
        "\t# Initialize student's total \n",
        "\t# marks to 0 \n",
        "\ttotal = 0\n",
        "\n",
        "\t# Initialize student's grade \n",
        "\t# marks to F \n",
        "\tgrade = 'F'\n",
        "\n",
        "\t# Traverse though the marks array \n",
        "\t# to find the sum. \n",
        "\tfor i in range(len(marks)): \n",
        "\t\ttotal += marks[i] \n",
        "\n",
        "\t# Calculate the percentage, \n",
        "\tpercentage = ((total) /max_marks) * 100\n",
        "if (percentage > 100): \n",
        "\tprint(\"INVALID ENTRY\")\n",
        "elif (percentage >= 90 and\n",
        "\tpercentage <= 100): \n",
        "\tprint(\"Your Percentage is\",percentage,\"%\")\n",
        "\tprint (\"Your Grade is A\") \n",
        "elif (percentage >= 80 and\n",
        "\tpercentage <= 89): \n",
        "\tprint(\"Your Percentage is\",percentage,\"%\")\n",
        "\tprint (\"Your Grade is B\") \n",
        "elif (percentage >= 60 and\n",
        "\tpercentage <= 79): \n",
        "\tprint(\"Your Percentage is\",percentage,\"%\")\n",
        "\tprint (\"Your Grade is C\")\n",
        "elif (percentage >= 40 and\n",
        "\tpercentage <= 59):\n",
        "\tprint(\"Your Percentage is\",percentage,\"%\")\n",
        "\tprint (\"Your Grade is D\")\n",
        "elif (percentage >= 20 and\n",
        "\tpercentage <= 39):\n",
        "\tprint(\"Your Percentage is\",percentage,\"%\")\n",
        "\tprint (\"Your Grade is E\")\n",
        "else: \n",
        "\tprint (\"You are FAILED\")"
      ],
      "execution_count": 1,
      "outputs": [
        {
          "output_type": "stream",
          "text": [
            "Enter your DIP SCORE: 95\n",
            "95\n",
            "Your Percentage is 95.0 %\n",
            "Your Grade is A\n"
          ],
          "name": "stdout"
        }
      ]
    },
    {
      "cell_type": "code",
      "metadata": {
        "id": "hMrXYNMVNdlB",
        "colab_type": "code",
        "colab": {
          "base_uri": "https://localhost:8080/",
          "height": 102
        },
        "outputId": "3d453194-eb50-4fcb-c844-b2f6262be845"
      },
      "source": [
        "# Python code to demonstrate the working of \n",
        "# choice() and randrange() \n",
        "\n",
        "# importing \"random\" for random operations \n",
        "import random \n",
        "x = input(\"Enter your GUESS: \") \n",
        "print(x)\n",
        "# Python program to illustrate if-elif-else ladder \n",
        "#!/usr/bin/python \n",
        "i = int(x)\n",
        "if (i < 1): \n",
        "\tprint (\"Reduce your expectation for 20-20 Cricket\") \n",
        "elif (i > 250): \n",
        "\tprint (\"Reduce your expectation for 20-20 Cricket\") \n",
        "else: \n",
        "\tprint (\"--------\") \n",
        "# using randrange() to generate in range from 1 to 250. \n",
        "print (\"A random number from range is : \",end=\"\")  \n",
        "y = random.randrange(1, 250)\n",
        "print(y)\n",
        "b = int(y)\n",
        "if  (b >= int(x)+10 and b+10 <= int(x)): \n",
        "    print (\"Close By, you are True Indian Fan!🥳🎉\") \n",
        "elif (b <= int(x)+10 and b+10 >= int(x)): \n",
        "\tprint (\"Close By, you are True Indian Fan!🥳🎉\")\n",
        "else: \n",
        "\tprint (\"You are not true Indian fan!😝\")\n",
        "\n"
      ],
      "execution_count": 4,
      "outputs": [
        {
          "output_type": "stream",
          "text": [
            "Enter your GUESS: 251\n",
            "251\n",
            "Reduce your expectation for 20-20 Cricket\n",
            "A random number from range is : 190\n",
            "You are not true Indian fan!😝\n"
          ],
          "name": "stdout"
        }
      ]
    },
    {
      "cell_type": "code",
      "metadata": {
        "id": "rAvptWTiP0zi",
        "colab_type": "code",
        "colab": {}
      },
      "source": [
        "l = int(input())\n",
        "n = int(input())\n",
        "i = 0\n",
        "while i < n:\n",
        "    wh = str(input().split('  '))\n",
        "    w,h = int(wh[0]),int(wh[1])\n",
        "    if w == l and h == l:\n",
        "        print('ACCEPTED')\n",
        "    else:\n",
        "        if w > l and h > l:\n",
        "            print('CROP IT')\n",
        "        else:\n",
        "            print('UPLOAD ANOTHER')\n",
        "\n",
        "    i+=1"
      ],
      "execution_count": 0,
      "outputs": []
    },
    {
      "cell_type": "code",
      "metadata": {
        "id": "Tq-mkWRAU1_L",
        "colab_type": "code",
        "colab": {}
      },
      "source": [
        "# Maze size \n",
        "N = 4\n",
        "  \n",
        "# A utility function to print solution matrix sol \n",
        "def printSolution( sol ): \n",
        "      \n",
        "    for i in sol: \n",
        "        for j in i: \n",
        "            print(str(j) + \" \", end =\"\") \n",
        "        print(\"\") \n",
        "  \n",
        "# A utility function to check if x, y is valid \n",
        "# index for N * N Maze \n",
        "def isSafe( maze, x, y ): \n",
        "      \n",
        "    if x >= 0 and x < N and y >= 0 and y < N and maze[x][y] == 1: \n",
        "        return True\n",
        "      \n",
        "    return False\n",
        "  \n",
        "\"\"\" This function solves the Maze problem using Backtracking.  \n",
        "    It mainly uses solveMazeUtil() to solve the problem. It  \n",
        "    returns false if no path is possible, otherwise return  \n",
        "    true and prints the path in the form of 1s. Please note \n",
        "    that there may be more than one solutions, this function \n",
        "    prints one of the feasable solutions. \"\"\"\n",
        "def solveMaze( maze ): \n",
        "      \n",
        "    # Creating a 4 * 4 2-D list \n",
        "    sol = [ [ 0 for j in range(4) ] for i in range(4) ] \n",
        "      \n",
        "    if solveMazeUtil(maze, 0, 0, sol) == False: \n",
        "        print(\"Solution doesn't exist\"); \n",
        "        return False\n",
        "      \n",
        "    printSolution(sol) \n",
        "    return True\n",
        "      \n",
        "# A recursive utility function to solve Maze problem \n",
        "def solveMazeUtil(maze, x, y, sol): \n",
        "      \n",
        "    # if (x, y is goal) return True \n",
        "    if x == N - 1 and y == N - 1 and maze[x][y]== 1: \n",
        "        sol[x][y] = 1\n",
        "        return True\n",
        "          \n",
        "    # Check if maze[x][y] is valid \n",
        "    if isSafe(maze, x, y) == True: \n",
        "        # mark x, y as part of solution path \n",
        "        sol[x][y] = 1\n",
        "          \n",
        "        # Move forward in x direction \n",
        "        if solveMazeUtil(maze, x + 1, y, sol) == True: \n",
        "            return True\n",
        "              \n",
        "        # If moving in x direction doesn't give solution  \n",
        "        # then Move down in y direction \n",
        "        if solveMazeUtil(maze, x, y + 1, sol) == True: \n",
        "            return True\n",
        "          \n",
        "        # If none of the above movements work then  \n",
        "        # BACKTRACK: unmark x, y as part of solution path \n",
        "        sol[x][y] = 0\n",
        "        return False"
      ],
      "execution_count": 0,
      "outputs": []
    }
  ]
}