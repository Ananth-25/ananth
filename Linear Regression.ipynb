{
  "nbformat": 4,
  "nbformat_minor": 0,
  "metadata": {
    "colab": {
      "name": "Untitled6.ipynb",
      "provenance": [],
      "authorship_tag": "ABX9TyP41AA2wnKefGb51wajODAn",
      "include_colab_link": true
    },
    "kernelspec": {
      "name": "python3",
      "display_name": "Python 3"
    }
  },
  "cells": [
    {
      "cell_type": "markdown",
      "metadata": {
        "id": "view-in-github",
        "colab_type": "text"
      },
      "source": [
        "<a href=\"https://colab.research.google.com/github/Ananth-25/ananth/blob/master/Linear%20Regression.ipynb\" target=\"_parent\"><img src=\"https://colab.research.google.com/assets/colab-badge.svg\" alt=\"Open In Colab\"/></a>"
      ]
    },
    {
      "cell_type": "code",
      "metadata": {
        "id": "x7AenvKEgIhF",
        "colab_type": "code",
        "colab": {}
      },
      "source": [
        "import pandas as pd  \n",
        "import numpy as np  \n",
        "import matplotlib.pyplot as plt  "
      ],
      "execution_count": 1,
      "outputs": []
    },
    {
      "cell_type": "code",
      "metadata": {
        "id": "0Q3fcR01gkkh",
        "colab_type": "code",
        "colab": {}
      },
      "source": [
        "dataset = pd.read_csv('student_scores.csv') "
      ],
      "execution_count": 2,
      "outputs": []
    },
    {
      "cell_type": "code",
      "metadata": {
        "id": "htcec_crgtIF",
        "colab_type": "code",
        "colab": {
          "base_uri": "https://localhost:8080/",
          "height": 318
        },
        "outputId": "0bab9c8d-9417-4db1-c874-e978c9b71f33"
      },
      "source": [
        "print (dataset.shape)\n",
        "print (dataset.ndim)\n",
        "print (dataset.head())\n",
        "print (dataset.describe())"
      ],
      "execution_count": 3,
      "outputs": [
        {
          "output_type": "stream",
          "text": [
            "(25, 2)\n",
            "2\n",
            "   Hours  Scores\n",
            "0    2.5      21\n",
            "1    5.1      47\n",
            "2    3.2      27\n",
            "3    8.5      75\n",
            "4    3.5      30\n",
            "           Hours     Scores\n",
            "count  25.000000  25.000000\n",
            "mean    5.012000  51.480000\n",
            "std     2.525094  25.286887\n",
            "min     1.100000  17.000000\n",
            "25%     2.700000  30.000000\n",
            "50%     4.800000  47.000000\n",
            "75%     7.400000  75.000000\n",
            "max     9.200000  95.000000\n"
          ],
          "name": "stdout"
        }
      ]
    },
    {
      "cell_type": "code",
      "metadata": {
        "id": "NSVQRl72gyiz",
        "colab_type": "code",
        "colab": {
          "base_uri": "https://localhost:8080/",
          "height": 70
        },
        "outputId": "4168b52e-eb4b-430a-b34a-102501cd32e3"
      },
      "source": [
        "print (dataset.dtypes)"
      ],
      "execution_count": 4,
      "outputs": [
        {
          "output_type": "stream",
          "text": [
            "Hours     float64\n",
            "Scores      int64\n",
            "dtype: object\n"
          ],
          "name": "stdout"
        }
      ]
    },
    {
      "cell_type": "code",
      "metadata": {
        "id": "OJ2zg4O3g3jy",
        "colab_type": "code",
        "colab": {}
      },
      "source": [
        "features= dataset['Hours'].values"
      ],
      "execution_count": 5,
      "outputs": []
    },
    {
      "cell_type": "code",
      "metadata": {
        "id": "x8zIUfldg7Fs",
        "colab_type": "code",
        "colab": {}
      },
      "source": [
        "labels= dataset['Scores'].values"
      ],
      "execution_count": 6,
      "outputs": []
    },
    {
      "cell_type": "code",
      "metadata": {
        "id": "42PDqwaXg-cz",
        "colab_type": "code",
        "colab": {
          "base_uri": "https://localhost:8080/",
          "height": 282
        },
        "outputId": "d2723b15-45d0-4fe8-8e1a-041a5c10ca73"
      },
      "source": [
        "plt.scatter(features,labels)"
      ],
      "execution_count": 7,
      "outputs": [
        {
          "output_type": "execute_result",
          "data": {
            "text/plain": [
              "<matplotlib.collections.PathCollection at 0x7f519425e470>"
            ]
          },
          "metadata": {
            "tags": []
          },
          "execution_count": 7
        },
        {
          "output_type": "display_data",
          "data": {
            "image/png": "[encoded data removed]",
            "text/plain": [
              "<Figure size 432x288 with 1 Axes>"
            ]
          },
          "metadata": {
            "tags": [],
            "needs_background": "light"
          }
        }
      ]
    },
    {
      "cell_type": "code",
      "metadata": {
        "id": "E-Fr9_eihBeR",
        "colab_type": "code",
        "colab": {
          "base_uri": "https://localhost:8080/",
          "height": 34
        },
        "outputId": "39aee62d-0261-4e73-8719-d9e4860eb45a"
      },
      "source": [
        "from sklearn.linear_model import LinearRegression  \n",
        "\n",
        "# Create the object of the class, which is known as MODEL\n",
        "regressor = LinearRegression()\n",
        "features.shape\n",
        "features.ndim"
      ],
      "execution_count": 8,
      "outputs": [
        {
          "output_type": "execute_result",
          "data": {
            "text/plain": [
              "1"
            ]
          },
          "metadata": {
            "tags": []
          },
          "execution_count": 8
        }
      ]
    },
    {
      "cell_type": "code",
      "metadata": {
        "id": "JggNpJqahF0p",
        "colab_type": "code",
        "colab": {}
      },
      "source": [
        "features= features.reshape(25,1)"
      ],
      "execution_count": 9,
      "outputs": []
    },
    {
      "cell_type": "code",
      "metadata": {
        "id": "q2sLgBpnhJLN",
        "colab_type": "code",
        "colab": {
          "base_uri": "https://localhost:8080/",
          "height": 34
        },
        "outputId": "9b232e97-b012-44c4-9400-4da12a6a3223"
      },
      "source": [
        "features.ndim"
      ],
      "execution_count": 10,
      "outputs": [
        {
          "output_type": "execute_result",
          "data": {
            "text/plain": [
              "2"
            ]
          },
          "metadata": {
            "tags": []
          },
          "execution_count": 10
        }
      ]
    },
    {
      "cell_type": "code",
      "metadata": {
        "id": "AvCZDS0KhL6M",
        "colab_type": "code",
        "colab": {
          "base_uri": "https://localhost:8080/",
          "height": 34
        },
        "outputId": "a9063019-0acd-4c92-e972-c7882497198b"
      },
      "source": [
        "regressor.fit(features,labels)"
      ],
      "execution_count": 11,
      "outputs": [
        {
          "output_type": "execute_result",
          "data": {
            "text/plain": [
              "LinearRegression(copy_X=True, fit_intercept=True, n_jobs=None, normalize=False)"
            ]
          },
          "metadata": {
            "tags": []
          },
          "execution_count": 11
        }
      ]
    },
    {
      "cell_type": "code",
      "metadata": {
        "id": "1xpO8djehPVZ",
        "colab_type": "code",
        "colab": {
          "base_uri": "https://localhost:8080/",
          "height": 312
        },
        "outputId": "ccba44cd-ba9f-411f-e297-a1791f1ffea6"
      },
      "source": [
        "hours=int(input(\"enter the hours\"))\n",
        "x=[hours]\n",
        "x=np.array(x)\n",
        "x.shape\n",
        "x=x.reshape(1,1)\n",
        "x.shape\n",
        "regressor.predict(x)\n",
        "pred_y= regressor.predict(features)\n",
        "plt.scatter(features,labels,color='red')\n",
        "plt.plot(features,pred_y,color='blue')\n",
        "plt.title('Study Hours and Exam Score')\n",
        "plt.xlabel('Study Hours')\n",
        "plt.ylabel('Exam Score: Marks')\n",
        "plt.show()\n"
      ],
      "execution_count": 12,
      "outputs": [
        {
          "output_type": "stream",
          "text": [
            "enter the hours10\n"
          ],
          "name": "stdout"
        },
        {
          "output_type": "display_data",
          "data": {
            "image/png": "[encoded data removed]",
            "text/plain": [
              "<Figure size 432x288 with 1 Axes>"
            ]
          },
          "metadata": {
            "tags": [],
            "needs_background": "light"
          }
        }
      ]
    }
  ]
}