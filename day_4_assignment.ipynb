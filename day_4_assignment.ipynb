{
  "nbformat": 4,
  "nbformat_minor": 0,
  "metadata": {
    "colab": {
      "name": "day 4 assignment",
      "provenance": [],
      "authorship_tag": "ABX9TyPt9todsox0Oi5wGQY3SvyY",
      "include_colab_link": true
    },
    "kernelspec": {
      "name": "python3",
      "display_name": "Python 3"
    }
  },
  "cells": [
    {
      "cell_type": "markdown",
      "metadata": {
        "id": "view-in-github",
        "colab_type": "text"
      },
      "source": [
        "<a href=\"https://colab.research.google.com/github/Ananth-25/ananth/blob/master/day_4_assignment.ipynb\" target=\"_parent\"><img src=\"https://colab.research.google.com/assets/colab-badge.svg\" alt=\"Open In Colab\"/></a>"
      ]
    },
    {
      "cell_type": "code",
      "metadata": {
        "id": "1OHqZLxXK8g3",
        "colab_type": "code",
        "colab": {
          "base_uri": "https://localhost:8080/",
          "height": 221
        },
        "outputId": "19e3a968-446e-4839-91b8-c2ae02a9abbb"
      },
      "source": [
        "super_list = []\n",
        "while True:\n",
        "    super_list.append(int(input(\"Enter your of the element of the list -\")))\n",
        "    char= input(\"Enter Yes/No -\")\n",
        "    char= char.lower()\n",
        "    if not char.startswith('y'):\n",
        "        break\n",
        "    \n",
        "    \n",
        "        \n",
        "      \n",
        "      "
      ],
      "execution_count": 13,
      "outputs": [
        {
          "output_type": "stream",
          "text": [
            "Enter your of the element of the list -1\n",
            "Enter Yes/No -y\n",
            "Enter your of the element of the list -2\n",
            "Enter Yes/No -y\n",
            "Enter your of the element of the list -1\n",
            "Enter Yes/No -y\n",
            "Enter your of the element of the list -5\n",
            "Enter Yes/No -y\n",
            "Enter your of the element of the list -3\n",
            "Enter Yes/No -y\n",
            "Enter your of the element of the list -2\n",
            "Enter Yes/No -n\n"
          ],
          "name": "stdout"
        }
      ]
    },
    {
      "cell_type": "code",
      "metadata": {
        "id": "kwKXtocnLx5f",
        "colab_type": "code",
        "colab": {
          "base_uri": "https://localhost:8080/",
          "height": 34
        },
        "outputId": "b7333bcb-b6dd-454c-c341-234f704d8376"
      },
      "source": [
        "sub_list = [1,1,5]\n",
        "num = 0\n",
        "while num< len(super_list) and len(sub_list) > 0:\n",
        "    if super_list[num] == sub_list[0]:\n",
        "        sub_list.pop(0)\n",
        "        \n",
        "    num +=1\n",
        "    \n",
        "if len(sub_list) == 0 :\n",
        "    print(\"It's a Match\")\n",
        "else:\n",
        "    print(\"It's Gone\")"
      ],
      "execution_count": 4,
      "outputs": [
        {
          "output_type": "stream",
          "text": [
            "It's a Match\n"
          ],
          "name": "stdout"
        }
      ]
    },
    {
      "cell_type": "code",
      "metadata": {
        "id": "16dkFx34OAZr",
        "colab_type": "code",
        "colab": {
          "base_uri": "https://localhost:8080/",
          "height": 170
        },
        "outputId": "2c8fe383-39d5-4ddd-ee33-42d7b200eb75"
      },
      "source": [
        "# calculator\n",
        "print(\"Calculator\")\n",
        "print(\"1.Add\")\n",
        "print(\"2.Substract\")\n",
        "print(\"3.Multiply\")\n",
        "print(\"4.Divide\")\n",
        "\n",
        "# input choice\n",
        "ch=int(input(\"Enter Choice(1-4): \"))\n",
        "\n",
        "if ch==1:\n",
        "    a=int(input(\"Enter A:\"))\n",
        "    b=int(input(\"Enter B:\"))\n",
        "    c=a+b\n",
        "    print(\"Sum = \",c)\n",
        "elif ch==2:\n",
        "    a=int(input(\"Enter A:\"))\n",
        "    b=int(input(\"Enter B:\"))\n",
        "    c=a-b\n",
        "    print(\"Difference = \",c)\n",
        "elif  ch==3:\n",
        "    a=int(input(\"Enter A:\"))\n",
        "    b=int(input(\"Enter B:\"))\n",
        "    c=a*b\n",
        "    print(\"Product = \",c)\n",
        "elif ch==4:\n",
        "    a=int(input(\"Enter A:\"))\n",
        "    b=int(input(\"Enter B:\"))\n",
        "    c=a/b\n",
        "    print(\"Quotient = \",c)\n",
        "else:\n",
        "    print(\"Invalid Choice\")"
      ],
      "execution_count": 15,
      "outputs": [
        {
          "output_type": "stream",
          "text": [
            "Calculator\n",
            "1.Add\n",
            "2.Substract\n",
            "3.Multiply\n",
            "4.Divide\n",
            "Enter Choice(1-4): 1\n",
            "Enter A:2\n",
            "Enter B:6\n",
            "Sum =  8\n"
          ],
          "name": "stdout"
        }
      ]
    }
  ]
}