{
  "nbformat": 4,
  "nbformat_minor": 0,
  "metadata": {
    "colab": {
      "name": "day 5 assignments",
      "provenance": [],
      "collapsed_sections": [],
      "authorship_tag": "ABX9TyN7Bkt0q1k1EmW9hyOxt5hK",
      "include_colab_link": true
    },
    "kernelspec": {
      "name": "python3",
      "display_name": "Python 3"
    }
  },
  "cells": [
    {
      "cell_type": "markdown",
      "metadata": {
        "id": "view-in-github",
        "colab_type": "text"
      },
      "source": [
        "<a href=\"https://colab.research.google.com/github/Ananth-25/ananth/blob/master/day_5_assignments.ipynb\" target=\"_parent\"><img src=\"https://colab.research.google.com/assets/colab-badge.svg\" alt=\"Open In Colab\"/></a>"
      ]
    },
    {
      "cell_type": "code",
      "metadata": {
        "id": "z4r7C0-xhpZm",
        "colab_type": "code",
        "colab": {}
      },
      "source": [
        "file=open(\"python.txt\",\"w\")\n",
        "file.write(\"I love fcs\")\n",
        "file.close()"
      ],
      "execution_count": 0,
      "outputs": []
    },
    {
      "cell_type": "code",
      "metadata": {
        "id": "nOo86pv_hzW0",
        "colab_type": "code",
        "colab": {
          "base_uri": "https://localhost:8080/",
          "height": 34
        },
        "outputId": "7e59e9f3-19a5-4598-ecac-4df2b7133599"
      },
      "source": [
        "file=open(\"python.txt\",\"r\")\n",
        "text=file.read()\n",
        "print(text)\n",
        "file.close()\n"
      ],
      "execution_count": 2,
      "outputs": [
        {
          "output_type": "stream",
          "text": [
            "I love fcs\n"
          ],
          "name": "stdout"
        }
      ]
    },
    {
      "cell_type": "code",
      "metadata": {
        "id": "Ftj6g6MZh4oL",
        "colab_type": "code",
        "colab": {
          "base_uri": "https://localhost:8080/",
          "height": 1000
        },
        "outputId": "b73d5d8f-d846-45d1-fc6d-53aca4395597"
      },
      "source": [
        "from __future__ import print_function\n",
        " \n",
        "choices = []\n",
        " \n",
        "for x in range (0, 9) :\n",
        "    choices.append(str(x + 1))\n",
        " \n",
        "playerOneTurn = True\n",
        "winner = False\n",
        " \n",
        "def printBoard() :\n",
        "    print( '\\n -----')\n",
        "    print( '|' + choices[0] + '|' + choices[1] + '|' + choices[2] + '|')\n",
        "    print( ' -----')\n",
        "    print( '|' + choices[3] + '|' + choices[4] + '|' + choices[5] + '|')\n",
        "    print( ' -----')\n",
        "    print( '|' + choices[6] + '|' + choices[7] + '|' + choices[8] + '|')\n",
        "    print( ' -----\\n')\n",
        " \n",
        "while not winner :\n",
        "    printBoard()\n",
        " \n",
        "    if playerOneTurn :\n",
        "        print( \"Player 1:\")\n",
        "    else :\n",
        "        print( \"Player 2:\")\n",
        " \n",
        "    try:\n",
        "        choice = int(input(\">> \"))\n",
        "    except:\n",
        "        print(\"please enter a valid field\")\n",
        "        continue\n",
        "    if choices[choice - 1] == 'X' or choices [choice-1] == 'O':\n",
        "        print(\"illegal move, plase try again\")\n",
        "        continue\n",
        " \n",
        "    if playerOneTurn :\n",
        "        choices[choice - 1] = 'X'\n",
        "    else :\n",
        "        choices[choice - 1] = 'O'\n",
        " \n",
        "    playerOneTurn = not playerOneTurn\n",
        " \n",
        "    for x in range (0, 3) :\n",
        "        y = x * 3\n",
        "        if (choices[y] == choices[(y + 1)] and choices[y] == choices[(y + 2)]) :\n",
        "            winner = True\n",
        "            printBoard()\n",
        "        if (choices[x] == choices[(x + 3)] and choices[x] == choices[(x + 6)]) :\n",
        "            winner = True\n",
        "            printBoard()\n",
        " \n",
        "    if((choices[0] == choices[4] and choices[0] == choices[8]) or \n",
        "       (choices[2] == choices[4] and choices[4] == choices[6])) :\n",
        "        winner = True\n",
        "        printBoard()\n",
        " \n",
        "print (\"Player \" + str(int(playerOneTurn + 1)) + \" wins!\\n\")"
      ],
      "execution_count": 3,
      "outputs": [
        {
          "output_type": "stream",
          "text": [
            "\n",
            " -----\n",
            "|1|2|3|\n",
            " -----\n",
            "|4|5|6|\n",
            " -----\n",
            "|7|8|9|\n",
            " -----\n",
            "\n",
            "Player 1:\n",
            ">> 1\n",
            "\n",
            " -----\n",
            "|X|2|3|\n",
            " -----\n",
            "|4|5|6|\n",
            " -----\n",
            "|7|8|9|\n",
            " -----\n",
            "\n",
            "Player 2:\n",
            ">> 5\n",
            "\n",
            " -----\n",
            "|X|2|3|\n",
            " -----\n",
            "|4|O|6|\n",
            " -----\n",
            "|7|8|9|\n",
            " -----\n",
            "\n",
            "Player 1:\n",
            ">> 9\n",
            "\n",
            " -----\n",
            "|X|2|3|\n",
            " -----\n",
            "|4|O|6|\n",
            " -----\n",
            "|7|8|X|\n",
            " -----\n",
            "\n",
            "Player 2:\n",
            ">> 3\n",
            "\n",
            " -----\n",
            "|X|2|O|\n",
            " -----\n",
            "|4|O|6|\n",
            " -----\n",
            "|7|8|X|\n",
            " -----\n",
            "\n",
            "Player 1:\n",
            ">> 7\n",
            "\n",
            " -----\n",
            "|X|2|O|\n",
            " -----\n",
            "|4|O|6|\n",
            " -----\n",
            "|X|8|X|\n",
            " -----\n",
            "\n",
            "Player 2:\n",
            ">> 4\n",
            "\n",
            " -----\n",
            "|X|2|O|\n",
            " -----\n",
            "|O|O|6|\n",
            " -----\n",
            "|X|8|X|\n",
            " -----\n",
            "\n",
            "Player 1:\n",
            ">> 8\n",
            "\n",
            " -----\n",
            "|X|2|O|\n",
            " -----\n",
            "|O|O|6|\n",
            " -----\n",
            "|X|X|X|\n",
            " -----\n",
            "\n",
            "Player 1 wins!\n",
            "\n"
          ],
          "name": "stdout"
        }
      ]
    }
  ]
}