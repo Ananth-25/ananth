{
  "nbformat": 4,
  "nbformat_minor": 0,
  "metadata": {
    "colab": {
      "name": "day 7 assignment",
      "provenance": [],
      "collapsed_sections": [],
      "authorship_tag": "ABX9TyNcLMb/eGQrY7YinTVhvYe8",
      "include_colab_link": true
    },
    "kernelspec": {
      "name": "python3",
      "display_name": "Python 3"
    }
  },
  "cells": [
    {
      "cell_type": "markdown",
      "metadata": {
        "id": "view-in-github",
        "colab_type": "text"
      },
      "source": [
        "<a href=\"https://colab.research.google.com/github/Ananth-25/ananth/blob/master/day_7_assignment.ipynb\" target=\"_parent\"><img src=\"https://colab.research.google.com/assets/colab-badge.svg\" alt=\"Open In Colab\"/></a>"
      ]
    },
    {
      "cell_type": "code",
      "metadata": {
        "id": "GeKQKBCdBq13",
        "colab_type": "code",
        "colab": {}
      },
      "source": [
        "#1 program to handle error exceptions in files"
      ],
      "execution_count": 0,
      "outputs": []
    },
    {
      "cell_type": "code",
      "metadata": {
        "id": "IsaqZNaFBrhE",
        "colab_type": "code",
        "colab": {}
      },
      "source": [
        "\n",
        "f = open(\"file.txt\",\"w\")\n",
        "f.write(\"hi i am ananth\")\n",
        "f.close()\n"
      ],
      "execution_count": 0,
      "outputs": []
    },
    {
      "cell_type": "code",
      "metadata": {
        "id": "Vq6-xv_4BrmT",
        "colab_type": "code",
        "colab": {
          "base_uri": "https://localhost:8080/",
          "height": 34
        },
        "outputId": "f25aa941-1a90-453a-d222-9d9fed5d2eac"
      },
      "source": [
        "f = open(\"file.txt\",\"r\")\n",
        "f.read()"
      ],
      "execution_count": 2,
      "outputs": [
        {
          "output_type": "execute_result",
          "data": {
            "text/plain": [
              "'hi i am ananth'"
            ]
          },
          "metadata": {
            "tags": []
          },
          "execution_count": 2
        }
      ]
    },
    {
      "cell_type": "code",
      "metadata": {
        "id": "MaDUYAyDCht5",
        "colab_type": "code",
        "colab": {}
      },
      "source": [
        "#2 program to check prime numbers and testing using pyint"
      ],
      "execution_count": 0,
      "outputs": []
    },
    {
      "cell_type": "code",
      "metadata": {
        "id": "CD9z_VH_B_-s",
        "colab_type": "code",
        "colab": {
          "base_uri": "https://localhost:8080/",
          "height": 51
        },
        "outputId": "c3e3907e-f932-4b68-8a06-196f4c347a8d"
      },
      "source": [
        "try :\n",
        "    f = open(\"file.txt\",'r')\n",
        "    f.write(\"hello upgraders\")\n",
        "except Exception as e :\n",
        "    print(\"error is:\",e)\n",
        "    f=open(\"file.txt\",'r')\n",
        "    print(f.read())\n",
        "finally:\n",
        "    f.close()"
      ],
      "execution_count": 3,
      "outputs": [
        {
          "output_type": "stream",
          "text": [
            "error is: not writable\n",
            "hi i am ananth\n"
          ],
          "name": "stdout"
        }
      ]
    },
    {
      "cell_type": "code",
      "metadata": {
        "id": "Fv1cJJmMCCV4",
        "colab_type": "code",
        "colab": {
          "base_uri": "https://localhost:8080/",
          "height": 34
        },
        "outputId": "6f202298-1865-4559-e165-2ebc1c4ce681"
      },
      "source": [
        "\n",
        "%%writefile pyint.py\n",
        "'''this is doc string'''\n",
        "def check_prime(num):\n",
        "  '''this code is to check prime numer'''\n",
        "  if num > 1:\n",
        "    for i in range(2,num-1):\n",
        "      if(num % i) == 0:\n",
        "        return 0\n",
        "    else :\n",
        "      return 1\n",
        "  else:\n",
        "    return \"number is 1\""
      ],
      "execution_count": 4,
      "outputs": [
        {
          "output_type": "stream",
          "text": [
            "Writing pyint.py\n"
          ],
          "name": "stdout"
        }
      ]
    },
    {
      "cell_type": "code",
      "metadata": {
        "id": "NneEi8xzCRjp",
        "colab_type": "code",
        "colab": {
          "base_uri": "https://localhost:8080/",
          "height": 34
        },
        "outputId": "1c00be63-8a03-427f-b9c6-f84d2d12eaa8"
      },
      "source": [
        "%%writefile unittest_prime.py\n",
        "import unittest\n",
        "import pyint\n",
        "class Test_num(unittest.TestCase):\n",
        "  def test_num1(self):\n",
        "    A=5\n",
        "    result=pyint.check_prime(A)\n",
        "    self.assertEqual(result,1)\n",
        "if __name__ == '__main__':\n",
        "  unittest.main()\n",
        "  "
      ],
      "execution_count": 5,
      "outputs": [
        {
          "output_type": "stream",
          "text": [
            "Writing unittest_prime.py\n"
          ],
          "name": "stdout"
        }
      ]
    },
    {
      "cell_type": "code",
      "metadata": {
        "id": "oJXEaFtbCVoG",
        "colab_type": "code",
        "colab": {
          "base_uri": "https://localhost:8080/",
          "height": 102
        },
        "outputId": "b58a86ac-162b-431f-9bef-72a557c09294"
      },
      "source": [
        "!python unittest_prime.py"
      ],
      "execution_count": 6,
      "outputs": [
        {
          "output_type": "stream",
          "text": [
            ".\n",
            "----------------------------------------------------------------------\n",
            "Ran 1 test in 0.000s\n",
            "\n",
            "OK\n"
          ],
          "name": "stdout"
        }
      ]
    }
  ]
}