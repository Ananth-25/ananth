{
  "nbformat": 4,
  "nbformat_minor": 0,
  "metadata": {
    "colab": {
      "name": "Copy of Ananth assignment 1",
      "provenance": [],
      "authorship_tag": "ABX9TyOl8bVFTRwxnQxp16jUMuak",
      "include_colab_link": true
    },
    "kernelspec": {
      "name": "python3",
      "display_name": "Python 3"
    }
  },
  "cells": [
    {
      "cell_type": "markdown",
      "metadata": {
        "id": "view-in-github",
        "colab_type": "text"
      },
      "source": [
        "<a href=\"https://colab.research.google.com/github/Ananth-25/ananth/blob/master/Copy_of_Ananth_assignment_1.ipynb\" target=\"_parent\"><img src=\"https://colab.research.google.com/assets/colab-badge.svg\" alt=\"Open In Colab\"/></a>"
      ]
    },
    {
      "cell_type": "code",
      "metadata": {
        "id": "hMlEKDXpKx4U",
        "colab_type": "code",
        "outputId": "d7f68b6c-9605-4fb0-9be5-a5460ea3e85a",
        "colab": {
          "base_uri": "https://localhost:8080/",
          "height": 51
        }
      },
      "source": [
        "# Creation of List \n",
        "\n",
        "# Creating a List \n",
        "List = [] \n",
        "print(\"Intial blank List: \") \n",
        "print(List) "
      ],
      "execution_count": 0,
      "outputs": [
        {
          "output_type": "stream",
          "text": [
            "Intial blank List: \n",
            "[]\n"
          ],
          "name": "stdout"
        }
      ]
    },
    {
      "cell_type": "code",
      "metadata": {
        "id": "mFz3pf33K8sX",
        "colab_type": "code",
        "outputId": "11300188-9821-48f5-e6bd-4a4af1acee49",
        "colab": {
          "base_uri": "https://localhost:8080/",
          "height": 68
        }
      },
      "source": [
        "# Creating a List with \n",
        "# the use of a String \n",
        "List = ['Ananth Vasishta'] \n",
        "print(\"\\nList with the use of String: \") \n",
        "print(List) "
      ],
      "execution_count": 0,
      "outputs": [
        {
          "output_type": "stream",
          "text": [
            "\n",
            "List with the use of String: \n",
            "['Ananth Vasishta']\n"
          ],
          "name": "stdout"
        }
      ]
    },
    {
      "cell_type": "code",
      "metadata": {
        "id": "EuDAFJKtK-2h",
        "colab_type": "code",
        "outputId": "d7c9e573-da91-4aba-edf3-309d3f72f9d9",
        "colab": {
          "base_uri": "https://localhost:8080/",
          "height": 85
        }
      },
      "source": [
        "# Creating a List with \n",
        "# the use of multiple values \n",
        "List = [\"Ananth \", \"For\", \"LetsUpgrade.in Student\"] \n",
        "print(\"\\nList containing multiple values: \") \n",
        "print(List[0]) \n",
        "print(List[2]) "
      ],
      "execution_count": 0,
      "outputs": [
        {
          "output_type": "stream",
          "text": [
            "\n",
            "List containing multiple values: \n",
            "Ananth \n",
            "LetsUpgrade.in Student\n"
          ],
          "name": "stdout"
        }
      ]
    },
    {
      "cell_type": "code",
      "metadata": {
        "id": "VJV2txcZLCvU",
        "colab_type": "code",
        "outputId": "61889fbe-4b13-4010-9a25-730736ef2320",
        "colab": {
          "base_uri": "https://localhost:8080/",
          "height": 68
        }
      },
      "source": [
        "# Creating a Multi-Dimensional List \n",
        "# (By Nesting a list inside a List) \n",
        "List = [['Ananth', 'For'] , ['LetsUpgrade.in Student']] \n",
        "print(\"\\nMulti-Dimensional List: \") \n",
        "print(List)"
      ],
      "execution_count": 0,
      "outputs": [
        {
          "output_type": "stream",
          "text": [
            "\n",
            "Multi-Dimensional List: \n",
            "[['Ananth', 'For'], ['LetsUpgrade.in Student']]\n"
          ],
          "name": "stdout"
        }
      ]
    },
    {
      "cell_type": "code",
      "metadata": {
        "id": "Km_30zZZLNyY",
        "colab_type": "code",
        "outputId": "a7eed4b4-9d19-4169-9064-e445d7f7e0c6",
        "colab": {
          "base_uri": "https://localhost:8080/",
          "height": 51
        }
      },
      "source": [
        "# Python program to demonstrate \n",
        "# Addition of elements in a List \n",
        "\n",
        "# Creating a List \n",
        "List = [] \n",
        "print(\"Initial blank List: \") \n",
        "print(List) \n"
      ],
      "execution_count": 0,
      "outputs": [
        {
          "output_type": "stream",
          "text": [
            "Initial blank List: \n",
            "[]\n"
          ],
          "name": "stdout"
        }
      ]
    },
    {
      "cell_type": "code",
      "metadata": {
        "id": "8ArpBQR0LPiT",
        "colab_type": "code",
        "outputId": "212c3aaa-45ff-449f-e317-9bf2e3488441",
        "colab": {
          "base_uri": "https://localhost:8080/",
          "height": 68
        }
      },
      "source": [
        "# Addition of Elements \n",
        "# in the List \n",
        "List.append(1) \n",
        "List.append(2) \n",
        "List.append(4) \n",
        "print(\"\\nList after Addition of Three elements: \") \n",
        "print(List)"
      ],
      "execution_count": 0,
      "outputs": [
        {
          "output_type": "stream",
          "text": [
            "\n",
            "List after Addition of Three elements: \n",
            "[1, 2, 4]\n"
          ],
          "name": "stdout"
        }
      ]
    },
    {
      "cell_type": "code",
      "metadata": {
        "id": "nBUEMsHDLUM2",
        "colab_type": "code",
        "outputId": "3be7e8a0-7a5f-4f8a-f2e5-6f524cb2d4dc",
        "colab": {
          "base_uri": "https://localhost:8080/",
          "height": 51
        }
      },
      "source": [
        "# Python program to demonstrate \n",
        "# Addition of elements in a List \n",
        "\n",
        "# Creating a List \n",
        "List = [1,2,3,4] \n",
        "print(\"Initial List: \") \n",
        "print(List) "
      ],
      "execution_count": 0,
      "outputs": [
        {
          "output_type": "stream",
          "text": [
            "Initial List: \n",
            "[1, 2, 3, 4]\n"
          ],
          "name": "stdout"
        }
      ]
    },
    {
      "cell_type": "code",
      "metadata": {
        "id": "G8tn99FCLdQe",
        "colab_type": "code",
        "outputId": "fc1940a9-a2ef-4a13-b999-c19f9141442a",
        "colab": {
          "base_uri": "https://localhost:8080/",
          "height": 68
        }
      },
      "source": [
        "# Addition of Element at \n",
        "# specific Position \n",
        "# (using Insert Method) \n",
        "List.insert(3, 12) \n",
        "List.insert(0, 'Ananth Vasishta') \n",
        "print(\"\\nList after performing Insert Operation: \") \n",
        "print(List) "
      ],
      "execution_count": 0,
      "outputs": [
        {
          "output_type": "stream",
          "text": [
            "\n",
            "List after performing Insert Operation: \n",
            "['Ananth Vasishta', 1, 2, 3, 12, 4]\n"
          ],
          "name": "stdout"
        }
      ]
    },
    {
      "cell_type": "code",
      "metadata": {
        "id": "I-mr7GLuLfZn",
        "colab_type": "code",
        "outputId": "cfe357d5-b61d-4763-d05c-2a87a124c1a8",
        "colab": {
          "base_uri": "https://localhost:8080/",
          "height": 68
        }
      },
      "source": [
        "# Removing elements from List \n",
        "# using Remove() method \n",
        "List.remove(2) \n",
        "List.remove(3) \n",
        "print(\"\\nList after Removal of two elements: \") \n",
        "print(List) "
      ],
      "execution_count": 0,
      "outputs": [
        {
          "output_type": "stream",
          "text": [
            "\n",
            "List after Removal of two elements: \n",
            "['Ananth Vasishta', 1, 12, 4]\n"
          ],
          "name": "stdout"
        }
      ]
    },
    {
      "cell_type": "code",
      "metadata": {
        "id": "hwQPWbNWLkVr",
        "colab_type": "code",
        "outputId": "61c11982-84e4-4bac-bb3a-9adb87d1fb48",
        "colab": {
          "base_uri": "https://localhost:8080/",
          "height": 68
        }
      },
      "source": [
        "# Removing element at a  \n",
        "# specific location from the  \n",
        "# Set using the pop() method \n",
        "List.pop(2) \n",
        "print(\"\\nList after popping a specific element: \") \n",
        "print(List) "
      ],
      "execution_count": 0,
      "outputs": [
        {
          "output_type": "stream",
          "text": [
            "\n",
            "List after popping a specific element: \n",
            "['Ananth Vasishta', 1, 4]\n"
          ],
          "name": "stdout"
        }
      ]
    },
    {
      "cell_type": "code",
      "metadata": {
        "id": "G-X0ezqnLoTO",
        "colab_type": "code",
        "outputId": "f5157996-8359-4e02-bcd5-a68a62edab3c",
        "colab": {
          "base_uri": "https://localhost:8080/",
          "height": 68
        }
      },
      "source": [
        "# (using Extend Method) \n",
        "List.extend([8, 'LetsUpgrade.in Student', 'Always']) \n",
        "print(\"\\nList after performing Extend Operation: \") \n",
        "print(List)"
      ],
      "execution_count": 0,
      "outputs": [
        {
          "output_type": "stream",
          "text": [
            "\n",
            "List after performing Extend Operation: \n",
            "['Ananth Vasishta', 1, 4, 8, 'LetsUpgrade.in Student', 'Always']\n"
          ],
          "name": "stdout"
        }
      ]
    },
    {
      "cell_type": "code",
      "metadata": {
        "id": "oaEOKEyTLtfL",
        "colab_type": "code",
        "outputId": "c4ac7799-848b-4c63-d316-75020bba1577",
        "colab": {
          "base_uri": "https://localhost:8080/",
          "height": 34
        }
      },
      "source": [
        "# (using Delete Method)\n",
        "thislist = [\"apple\", \"banana\", \"cherry\"]\n",
        "del thislist[0]\n",
        "print(thislist)\n"
      ],
      "execution_count": 0,
      "outputs": [
        {
          "output_type": "stream",
          "text": [
            "['banana', 'cherry']\n"
          ],
          "name": "stdout"
        }
      ]
    },
    {
      "cell_type": "code",
      "metadata": {
        "id": "PmUZpwLCL2u7",
        "colab_type": "code",
        "outputId": "3cab9679-9c0c-4ef1-80f5-61613cb8217e",
        "colab": {
          "base_uri": "https://localhost:8080/",
          "height": 34
        }
      },
      "source": [
        "# (using Clear Method)\n",
        "thislist = [\"apple\", \"banana\", \"cherry\"]\n",
        "thislist.clear()\n",
        "print(thislist)\n"
      ],
      "execution_count": 0,
      "outputs": [
        {
          "output_type": "stream",
          "text": [
            "[]\n"
          ],
          "name": "stdout"
        }
      ]
    },
    {
      "cell_type": "code",
      "metadata": {
        "id": "ZNaWFv72MJWd",
        "colab_type": "code",
        "outputId": "23e87adb-eef1-4fb5-c1e5-36bc1ade9fca",
        "colab": {
          "base_uri": "https://localhost:8080/",
          "height": 68
        }
      },
      "source": [
        "\n",
        "\n",
        "# Creating a Dictionary \n",
        "# with Integer Keys \n",
        "Dict = {1: 'Ananth', 2: 'Vasishta', 3: 'LetsUpgrade.in'} \n",
        "print(\"\\nDictionary with the use of Integer Keys: \") \n",
        "print(Dict) "
      ],
      "execution_count": 0,
      "outputs": [
        {
          "output_type": "stream",
          "text": [
            "\n",
            "Dictionary with the use of Integer Keys: \n",
            "{1: 'Ananth', 2: 'Vasishta', 3: 'LetsUpgrade.in'}\n"
          ],
          "name": "stdout"
        }
      ]
    },
    {
      "cell_type": "code",
      "metadata": {
        "id": "E2n7i2oYMRHi",
        "colab_type": "code",
        "outputId": "89dac278-a03d-4d67-b685-bda0c1ebe185",
        "colab": {
          "base_uri": "https://localhost:8080/",
          "height": 68
        }
      },
      "source": [
        "# Creating a Dictionary \n",
        "# with Mixed keys \n",
        "Dict = {'Name': 'Ananth Vasishta', 1: [1, 2, 3, 4]} \n",
        "print(\"\\nDictionary with the use of Mixed Keys: \") \n",
        "print(Dict) "
      ],
      "execution_count": 0,
      "outputs": [
        {
          "output_type": "stream",
          "text": [
            "\n",
            "Dictionary with the use of Mixed Keys: \n",
            "{'Name': 'Ananth Vasishta', 1: [1, 2, 3, 4]}\n"
          ],
          "name": "stdout"
        }
      ]
    },
    {
      "cell_type": "code",
      "metadata": {
        "id": "Lw9MFc66MVKw",
        "colab_type": "code",
        "outputId": "f4781f36-e3d8-4c0c-aa66-c4ab8e5ee5d0",
        "colab": {
          "base_uri": "https://localhost:8080/",
          "height": 51
        }
      },
      "source": [
        "# Creating an empty Dictionary \n",
        "Dict = {} \n",
        "print(\"Empty Dictionary: \") \n",
        "print(Dict) "
      ],
      "execution_count": 0,
      "outputs": [
        {
          "output_type": "stream",
          "text": [
            "Empty Dictionary: \n",
            "{}\n"
          ],
          "name": "stdout"
        }
      ]
    },
    {
      "cell_type": "code",
      "metadata": {
        "id": "3BEYUH0BMY3d",
        "colab_type": "code",
        "outputId": "9d4562a8-ea1a-42d9-87f0-e8ee97b433fe",
        "colab": {
          "base_uri": "https://localhost:8080/",
          "height": 68
        }
      },
      "source": [
        "# Creating a Dictionary \n",
        "# with dict() method \n",
        "Dict = dict({1: 'Ananth', 2: 'Vasishta', 3:'LetsUpgrade.in'}) \n",
        "print(\"\\nDictionary with the use of dict(): \") \n",
        "print(Dict) "
      ],
      "execution_count": 0,
      "outputs": [
        {
          "output_type": "stream",
          "text": [
            "\n",
            "Dictionary with the use of dict(): \n",
            "{1: 'Ananth', 2: 'Vasishta', 3: 'LetsUpgrade.in'}\n"
          ],
          "name": "stdout"
        }
      ]
    },
    {
      "cell_type": "code",
      "metadata": {
        "id": "0GKpUM76McA5",
        "colab_type": "code",
        "outputId": "368ad204-3232-40ef-9c58-716ea905ed3b",
        "colab": {
          "base_uri": "https://localhost:8080/",
          "height": 68
        }
      },
      "source": [
        "# Creating a Dictionary \n",
        "# with each item as a Pair \n",
        "Dict = dict([(1, 'Ananth Vasishta'), (2, 'LetsUpgrade.in')]) \n",
        "print(\"\\nDictionary with each item as a pair: \") \n",
        "print(Dict) \n"
      ],
      "execution_count": 0,
      "outputs": [
        {
          "output_type": "stream",
          "text": [
            "\n",
            "Dictionary with each item as a pair: \n",
            "{1: 'Ananth Vasishta', 2: 'LetsUpgrade.in'}\n"
          ],
          "name": "stdout"
        }
      ]
    },
    {
      "cell_type": "code",
      "metadata": {
        "id": "lDGDMjfsMjRL",
        "colab_type": "code",
        "outputId": "778c37e9-a8a1-4fc2-8eab-f08a0888041d",
        "colab": {
          "base_uri": "https://localhost:8080/",
          "height": 68
        }
      },
      "source": [
        "\n",
        "# Adding elements one at a time \n",
        "Dict[0] = 'Geeks'\n",
        "Dict[2] = 'For'\n",
        "Dict[3] = 1\n",
        "print(\"\\nDictionary after adding 3 elements: \") \n",
        "print(Dict) \n"
      ],
      "execution_count": 0,
      "outputs": [
        {
          "output_type": "stream",
          "text": [
            "\n",
            "Dictionary after adding 3 elements: \n",
            "{1: 'Ananth Vasishta', 2: 'For', 0: 'Geeks', 3: 1}\n"
          ],
          "name": "stdout"
        }
      ]
    },
    {
      "cell_type": "code",
      "metadata": {
        "id": "U0r0HMRfMnpK",
        "colab_type": "code",
        "outputId": "8fb06a31-8d71-4230-c1bc-b7196014cc41",
        "colab": {
          "base_uri": "https://localhost:8080/",
          "height": 68
        }
      },
      "source": [
        "# Accessing a element using get() \n",
        "# method \n",
        "print(\"\\nAccessing a element using get:\") \n",
        "print(Dict.get(3))\n"
      ],
      "execution_count": 0,
      "outputs": [
        {
          "output_type": "stream",
          "text": [
            "\n",
            "Accessing a element using get:\n",
            "1\n"
          ],
          "name": "stdout"
        }
      ]
    },
    {
      "cell_type": "code",
      "metadata": {
        "id": "2PXAtZu-MvkG",
        "colab_type": "code",
        "outputId": "d912fd38-fe5f-4880-fad4-42c0ac490247",
        "colab": {
          "base_uri": "https://localhost:8080/",
          "height": 51
        }
      },
      "source": [
        "# Initial Dictionary \n",
        "Dict = { 5 : 'Welcome', 6 : 'To', 7 : 'Geeks', \n",
        "\t\t'A' : {1 : 'Geeks', 2 : 'For', 3 : 'Geeks'}, \n",
        "\t\t'B' : {1 : 'Geeks', 2 : 'Life'}} \n",
        "print(\"Initial Dictionary: \") \n",
        "print(Dict) "
      ],
      "execution_count": 0,
      "outputs": [
        {
          "output_type": "stream",
          "text": [
            "Initial Dictionary: \n",
            "{5: 'Welcome', 6: 'To', 7: 'Geeks', 'A': {1: 'Geeks', 2: 'For', 3: 'Geeks'}, 'B': {1: 'Geeks', 2: 'Life'}}\n"
          ],
          "name": "stdout"
        }
      ]
    },
    {
      "cell_type": "code",
      "metadata": {
        "id": "1qXBzzdHM1kg",
        "colab_type": "code",
        "outputId": "bc595d60-20a4-4341-9d06-b23fa20ef885",
        "colab": {
          "base_uri": "https://localhost:8080/",
          "height": 68
        }
      },
      "source": [
        "# Deleting a Key value \n",
        "del Dict[6] \n",
        "print(\"\\nDeleting a specific key: \") \n",
        "print(Dict) "
      ],
      "execution_count": 0,
      "outputs": [
        {
          "output_type": "stream",
          "text": [
            "\n",
            "Deleting a specific key: \n",
            "{5: 'Welcome', 7: 'Geeks', 'A': {1: 'Geeks', 2: 'For', 3: 'Geeks'}, 'B': {1: 'Geeks', 2: 'Life'}}\n"
          ],
          "name": "stdout"
        }
      ]
    },
    {
      "cell_type": "code",
      "metadata": {
        "id": "MhvwAGODM5NW",
        "colab_type": "code",
        "outputId": "cad548f7-9d18-489d-9ba3-c29223790005",
        "colab": {
          "base_uri": "https://localhost:8080/",
          "height": 68
        }
      },
      "source": [
        "\n",
        "# Deleting a Key from \n",
        "# Nested Dictionary \n",
        "del Dict['A'][2] \n",
        "print(\"\\nDeleting a key from Nested Dictionary: \") \n",
        "print(Dict)"
      ],
      "execution_count": 0,
      "outputs": [
        {
          "output_type": "stream",
          "text": [
            "\n",
            "Deleting a key from Nested Dictionary: \n",
            "{5: 'Welcome', 7: 'Geeks', 'A': {1: 'Geeks', 3: 'Geeks'}, 'B': {1: 'Geeks', 2: 'Life'}}\n"
          ],
          "name": "stdout"
        }
      ]
    },
    {
      "cell_type": "code",
      "metadata": {
        "id": "F-PVeOY8M-SI",
        "colab_type": "code",
        "colab": {}
      },
      "source": [
        "# Creating a Dictionary \n",
        "Dict = {1: 'Geeks', 'name': 'For', 3: 'Geeks'} \n"
      ],
      "execution_count": 0,
      "outputs": []
    },
    {
      "cell_type": "code",
      "metadata": {
        "id": "Wi5IWF_UNSDw",
        "colab_type": "code",
        "outputId": "592d776c-7383-4f2a-a055-3b6a241a7772",
        "colab": {
          "base_uri": "https://localhost:8080/",
          "height": 68
        }
      },
      "source": [
        "# Deleting a key \n",
        "# using pop() method \n",
        "pop_ele = Dict.pop(1) \n",
        "print('\\nDictionary after deletion: ' + str(Dict)) \n",
        "print('Value associated to poped key is: ' + str(pop_ele))"
      ],
      "execution_count": 0,
      "outputs": [
        {
          "output_type": "stream",
          "text": [
            "\n",
            "Dictionary after deletion: {'name': 'For', 3: 'Geeks'}\n",
            "Value associated to poped key is: Geeks\n"
          ],
          "name": "stdout"
        }
      ]
    },
    {
      "cell_type": "code",
      "metadata": {
        "id": "c2jGADyVNX48",
        "colab_type": "code",
        "colab": {}
      },
      "source": [
        "# Creating a Dictionary \n",
        "Dict = {1: 'Geeks', 'name': 'For', 3: 'Geeks'} \n"
      ],
      "execution_count": 0,
      "outputs": []
    },
    {
      "cell_type": "code",
      "metadata": {
        "id": "TuL0HBMbNcux",
        "colab_type": "code",
        "outputId": "3a484328-a9e0-498b-a17a-e43d6dfedd44",
        "colab": {
          "base_uri": "https://localhost:8080/",
          "height": 68
        }
      },
      "source": [
        "# Deleting entire Dictionary \n",
        "Dict.clear() \n",
        "print(\"\\nDeleting Entire Dictionary: \") \n",
        "print(Dict)"
      ],
      "execution_count": 0,
      "outputs": [
        {
          "output_type": "stream",
          "text": [
            "\n",
            "Deleting Entire Dictionary: \n",
            "{}\n"
          ],
          "name": "stdout"
        }
      ]
    },
    {
      "cell_type": "code",
      "metadata": {
        "id": "NvIF1Q5RNkZa",
        "colab_type": "code",
        "outputId": "e0de542f-ecbe-4ee3-dc99-57c927eb5895",
        "colab": {
          "base_uri": "https://localhost:8080/",
          "height": 51
        }
      },
      "source": [
        "# Creation of Set in Python \n",
        "\n",
        "# Creating a Set \n",
        "set1 = set() \n",
        "print(\"Intial blank Set: \") \n",
        "print(set1) \n"
      ],
      "execution_count": 0,
      "outputs": [
        {
          "output_type": "stream",
          "text": [
            "Intial blank Set: \n",
            "set()\n"
          ],
          "name": "stdout"
        }
      ]
    },
    {
      "cell_type": "code",
      "metadata": {
        "id": "-KmkaHudNory",
        "colab_type": "code",
        "outputId": "c871fd0b-9985-4f76-edd3-0eb6a70a0c49",
        "colab": {
          "base_uri": "https://localhost:8080/",
          "height": 68
        }
      },
      "source": [
        "# Creating a Set with \n",
        "# the use of a String \n",
        "set1 = set(\"Ananth\") \n",
        "print(\"\\nSet with the use of String: \") \n",
        "print(set1) \n",
        "\n"
      ],
      "execution_count": 0,
      "outputs": [
        {
          "output_type": "stream",
          "text": [
            "\n",
            "Set with the use of String: \n",
            "{'a', 't', 'h', 'n', 'A'}\n"
          ],
          "name": "stdout"
        }
      ]
    },
    {
      "cell_type": "code",
      "metadata": {
        "id": "It0IsOTdNzof",
        "colab_type": "code",
        "outputId": "bb9f29a2-c8a1-4426-da50-54e2095d3c34",
        "colab": {
          "base_uri": "https://localhost:8080/",
          "height": 68
        }
      },
      "source": [
        "# Creating a Set with \n",
        "# the use of a List \n",
        "set1 = set([\"Ananth\", \"For\", \"Geeks\",\"Ananth\"]) \n",
        "print(\"\\nSet with the use of List: \") \n",
        "print(set1)"
      ],
      "execution_count": 0,
      "outputs": [
        {
          "output_type": "stream",
          "text": [
            "\n",
            "Set with the use of List: \n",
            "{'For', 'Ananth', 'Geeks'}\n"
          ],
          "name": "stdout"
        }
      ]
    },
    {
      "cell_type": "code",
      "metadata": {
        "id": "oRFOsCgJN062",
        "colab_type": "code",
        "outputId": "0503866e-8cad-434c-a351-473b333d75d1",
        "colab": {
          "base_uri": "https://localhost:8080/",
          "height": 68
        }
      },
      "source": [
        "# Adding element and tuple to the Set \n",
        "set1.add(8) \n",
        "set1.add(9) \n",
        "set1.add((6,7)) \n",
        "print(\"\\nSet after Addition of Three elements: \") \n",
        "print(set1) "
      ],
      "execution_count": 0,
      "outputs": [
        {
          "output_type": "stream",
          "text": [
            "\n",
            "Set after Addition of Three elements: \n",
            "{(6, 7), 'Geeks', 8, 9, 'For', 'Ananth'}\n"
          ],
          "name": "stdout"
        }
      ]
    },
    {
      "cell_type": "code",
      "metadata": {
        "id": "5VHU7f0NN825",
        "colab_type": "code",
        "outputId": "cdf08801-d458-4dc0-b660-2332ff940d1d",
        "colab": {
          "base_uri": "https://localhost:8080/",
          "height": 68
        }
      },
      "source": [
        "# using Update function \n",
        "set1 = set([ 4, 5, (6, 7)]) \n",
        "set1.update([10, 11]) \n",
        "print(\"\\nSet after Addition of elements using Update: \") \n",
        "print(set1)"
      ],
      "execution_count": 0,
      "outputs": [
        {
          "output_type": "stream",
          "text": [
            "\n",
            "Set after Addition of elements using Update: \n",
            "{4, 5, (6, 7), 10, 11}\n"
          ],
          "name": "stdout"
        }
      ]
    },
    {
      "cell_type": "code",
      "metadata": {
        "id": "igu9n22xOAeB",
        "colab_type": "code",
        "outputId": "d5321cf8-dfc4-4d17-b2d2-4b8458980a53",
        "colab": {
          "base_uri": "https://localhost:8080/",
          "height": 51
        }
      },
      "source": [
        "# Creating a Set \n",
        "set1 = set([1, 2, 3, 4, 5, 6,  \n",
        "            7, 8, 9, 10, 11, 12]) \n",
        "print(\"Intial Set: \") \n",
        "print(set1) \n",
        "\n"
      ],
      "execution_count": 0,
      "outputs": [
        {
          "output_type": "stream",
          "text": [
            "Intial Set: \n",
            "{1, 2, 3, 4, 5, 6, 7, 8, 9, 10, 11, 12}\n"
          ],
          "name": "stdout"
        }
      ]
    },
    {
      "cell_type": "code",
      "metadata": {
        "id": "gmHQS1lBOFUy",
        "colab_type": "code",
        "outputId": "9c542564-c6be-472a-d018-a1ef03ccea84",
        "colab": {
          "base_uri": "https://localhost:8080/",
          "height": 68
        }
      },
      "source": [
        "# Removing elements from Set \n",
        "# using Remove() method \n",
        "set1.remove(5) \n",
        "set1.remove(6) \n",
        "print(\"\\nSet after Removal of two elements: \") \n",
        "print(set1) "
      ],
      "execution_count": 0,
      "outputs": [
        {
          "output_type": "stream",
          "text": [
            "\n",
            "Set after Removal of two elements: \n",
            "{1, 2, 3, 4, 7, 8, 9, 10, 11, 12}\n"
          ],
          "name": "stdout"
        }
      ]
    },
    {
      "cell_type": "code",
      "metadata": {
        "id": "DGh5LT_wOIgh",
        "colab_type": "code",
        "outputId": "4ab372e1-dcff-4844-c97d-23243d87a556",
        "colab": {
          "base_uri": "https://localhost:8080/",
          "height": 68
        }
      },
      "source": [
        "# Removing element from the  \n",
        "# Set using the pop() method \n",
        "set1.pop() \n",
        "print(\"\\nSet after popping an element: \") \n",
        "print(set1) "
      ],
      "execution_count": 0,
      "outputs": [
        {
          "output_type": "stream",
          "text": [
            "\n",
            "Set after popping an element: \n",
            "{2, 3, 4, 7, 8, 9, 10, 11, 12}\n"
          ],
          "name": "stdout"
        }
      ]
    },
    {
      "cell_type": "code",
      "metadata": {
        "id": "d6qoQjlZOLyj",
        "colab_type": "code",
        "outputId": "e0c004b7-b966-495f-8dc2-67186ef38904",
        "colab": {
          "base_uri": "https://localhost:8080/",
          "height": 68
        }
      },
      "source": [
        "# Removing all the elements from  \n",
        "# Set using clear() method \n",
        "set1.clear() \n",
        "print(\"\\nSet after clearing all the elements: \") \n",
        "print(set1)"
      ],
      "execution_count": 0,
      "outputs": [
        {
          "output_type": "stream",
          "text": [
            "\n",
            "Set after clearing all the elements: \n",
            "set()\n"
          ],
          "name": "stdout"
        }
      ]
    }
  ]
}