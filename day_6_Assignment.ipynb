{
  "nbformat": 4,
  "nbformat_minor": 0,
  "metadata": {
    "colab": {
      "name": "day 6 Assignment",
      "provenance": [],
      "authorship_tag": "ABX9TyOGfAJtG1q7iZqyhWKtwHrz",
      "include_colab_link": true
    },
    "kernelspec": {
      "name": "python3",
      "display_name": "Python 3"
    }
  },
  "cells": [
    {
      "cell_type": "markdown",
      "metadata": {
        "id": "view-in-github",
        "colab_type": "text"
      },
      "source": [
        "<a href=\"https://colab.research.google.com/github/Ananth-25/ananth/blob/master/day_6_Assignment.ipynb\" target=\"_parent\"><img src=\"https://colab.research.google.com/assets/colab-badge.svg\" alt=\"Open In Colab\"/></a>"
      ]
    },
    {
      "cell_type": "code",
      "metadata": {
        "id": "8gaBHEDsqUQe",
        "colab_type": "code",
        "colab": {
          "base_uri": "https://localhost:8080/",
          "height": 136
        },
        "outputId": "9a6d12ab-bef1-4c9b-ffe1-dc6692ec1f10"
      },
      "source": [
        "# program of bank\n",
        "class BankAccount:\n",
        "   def __init__(self,owner,balance):\n",
        "       self.owner =owner\n",
        "       self.balance = balance\n",
        "      \n",
        "\n",
        "   def deposit(self,amount):\n",
        "      self.balance +=amount\n",
        "      return self.balance\n",
        "   def withdrawal(self,amount):\n",
        "     if self.balance >= amount  :\n",
        "       print(\"success\")\n",
        "     else :\n",
        "       print(\"failed\")\n",
        "      \n",
        "\n",
        "p1 = BankAccount(\"Ananth\",500)\n",
        "print(\"current balance is \",p1.balance)\n",
        "print(\"enter the amount to deposit\")\n",
        "amount = int(input())\n",
        "availableAmount = p1.deposit(amount)\n",
        "print(\"the balance is\",p1.balance)\n",
        "print(\"enter the amount to withdrawal\")\n",
        "withdrawalAmount = int(input())\n",
        "p1.withdrawal(withdrawalAmount)"
      ],
      "execution_count": 1,
      "outputs": [
        {
          "output_type": "stream",
          "text": [
            "current balance is  500\n",
            "enter the amount to deposit\n",
            "1000\n",
            "the balance is 1500\n",
            "enter the amount to withdrawal\n",
            "350\n",
            "success\n"
          ],
          "name": "stdout"
        }
      ]
    },
    {
      "cell_type": "code",
      "metadata": {
        "id": "12B2p_T6qlN5",
        "colab_type": "code",
        "colab": {}
      },
      "source": [
        "#2 program to find volume and surface area of cone"
      ],
      "execution_count": 0,
      "outputs": []
    },
    {
      "cell_type": "code",
      "metadata": {
        "id": "4iyiM0Vurpmm",
        "colab_type": "code",
        "colab": {
          "base_uri": "https://localhost:8080/",
          "height": 51
        },
        "outputId": "47bdfe95-32bd-47bb-d1a6-54ba81fd9411"
      },
      "source": [
        "import math\n",
        "\n",
        "\n",
        "class Cone:\n",
        "    def __init__(self,r=1,h=1):\n",
        "        self.r = r\n",
        "        self.h = h\n",
        "        self.volume =0\n",
        "        self.surface_area = 0\n",
        "        \n",
        "    def volume_fun(self):\n",
        "        self.volume = math.pi * self.r * self.r * (self.h/3)\n",
        "        return self.volume\n",
        "    \n",
        "    def surface_area_fun(self):\n",
        "        base = math.pi * self.r * self.r\n",
        "        side = math.pi * self.r * math.sqrt(self.r**2 + self.h**2)\n",
        "        self.surface_area = base + side\n",
        "        return self.surface_area\n",
        "\n",
        "cone1 = Cone(5,7)\n",
        "print(cone1.volume_fun())\n",
        "print(cone1.surface_area_fun())"
      ],
      "execution_count": 11,
      "outputs": [
        {
          "output_type": "stream",
          "text": [
            "183.2595714594046\n",
            "213.6648256533997\n"
          ],
          "name": "stdout"
        }
      ]
    }
  ]
}